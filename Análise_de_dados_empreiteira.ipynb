{
  "nbformat": 4,
  "nbformat_minor": 0,
  "metadata": {
    "colab": {
      "provenance": []
    },
    "kernelspec": {
      "name": "python3",
      "display_name": "Python 3"
    },
    "language_info": {
      "name": "python"
    }
  },
  "cells": [
    {
      "cell_type": "code",
      "execution_count": 1,
      "metadata": {
        "id": "uUFozDRzTEhz"
      },
      "outputs": [],
      "source": [
        "import pandas as pd\n",
        "import matplotlib.pyplot as plt\n",
        "%matplotlib inline"
      ]
    },
    {
      "cell_type": "code",
      "source": [
        "dados = pd.read_csv(\"empreiteira.csv\")\n",
        "dados.drop(columns=['Unnamed: 0'],inplace=True)"
      ],
      "metadata": {
        "id": "jdc-NpifTkg-"
      },
      "execution_count": 6,
      "outputs": []
    },
    {
      "cell_type": "code",
      "source": [
        "dados.head(3)"
      ],
      "metadata": {
        "colab": {
          "base_uri": "https://localhost:8080/",
          "height": 312
        },
        "id": "_2vwpcNiUP7I",
        "outputId": "d8978cf0-ead8-4651-f7ac-d612f54b1e95"
      },
      "execution_count": 7,
      "outputs": [
        {
          "output_type": "execute_result",
          "data": {
            "text/plain": [
              "   Projeto_ID Data_Inicial Data_Conclusao  Orcamento       Categoria  \\\n",
              "0           1   2022-01-01     2022-06-13   228049.0  Infraestrutura   \n",
              "1           1   2022-01-01     2022-06-13   228049.0  Infraestrutura   \n",
              "2           1   2022-01-01     2022-06-13   228049.0  Infraestrutura   \n",
              "\n",
              "   Recurso_ID                     Nome     Funcao  Custo_Hora Data_Alocacao  \\\n",
              "0           1         Davi Lucca Gomes   Pedreiro       88.66    2022-03-30   \n",
              "1           2             Luiza Farias   Pedreiro       79.33    2022-05-26   \n",
              "2           3  Sr. João Gabriel Novaes  Encanador       99.61    2022-04-14   \n",
              "\n",
              "   Horas_Alocadas  Mes_Alocacao  Ano_Alocacao  \n",
              "0            94.0             3          2022  \n",
              "1            12.0             5          2022  \n",
              "2            98.0             4          2022  "
            ],
            "text/html": [
              "\n",
              "  <div id=\"df-96796afd-d5ee-4ccf-b5e2-ee3e8206e2de\">\n",
              "    <div class=\"colab-df-container\">\n",
              "      <div>\n",
              "<style scoped>\n",
              "    .dataframe tbody tr th:only-of-type {\n",
              "        vertical-align: middle;\n",
              "    }\n",
              "\n",
              "    .dataframe tbody tr th {\n",
              "        vertical-align: top;\n",
              "    }\n",
              "\n",
              "    .dataframe thead th {\n",
              "        text-align: right;\n",
              "    }\n",
              "</style>\n",
              "<table border=\"1\" class=\"dataframe\">\n",
              "  <thead>\n",
              "    <tr style=\"text-align: right;\">\n",
              "      <th></th>\n",
              "      <th>Projeto_ID</th>\n",
              "      <th>Data_Inicial</th>\n",
              "      <th>Data_Conclusao</th>\n",
              "      <th>Orcamento</th>\n",
              "      <th>Categoria</th>\n",
              "      <th>Recurso_ID</th>\n",
              "      <th>Nome</th>\n",
              "      <th>Funcao</th>\n",
              "      <th>Custo_Hora</th>\n",
              "      <th>Data_Alocacao</th>\n",
              "      <th>Horas_Alocadas</th>\n",
              "      <th>Mes_Alocacao</th>\n",
              "      <th>Ano_Alocacao</th>\n",
              "    </tr>\n",
              "  </thead>\n",
              "  <tbody>\n",
              "    <tr>\n",
              "      <th>0</th>\n",
              "      <td>1</td>\n",
              "      <td>2022-01-01</td>\n",
              "      <td>2022-06-13</td>\n",
              "      <td>228049.0</td>\n",
              "      <td>Infraestrutura</td>\n",
              "      <td>1</td>\n",
              "      <td>Davi Lucca Gomes</td>\n",
              "      <td>Pedreiro</td>\n",
              "      <td>88.66</td>\n",
              "      <td>2022-03-30</td>\n",
              "      <td>94.0</td>\n",
              "      <td>3</td>\n",
              "      <td>2022</td>\n",
              "    </tr>\n",
              "    <tr>\n",
              "      <th>1</th>\n",
              "      <td>1</td>\n",
              "      <td>2022-01-01</td>\n",
              "      <td>2022-06-13</td>\n",
              "      <td>228049.0</td>\n",
              "      <td>Infraestrutura</td>\n",
              "      <td>2</td>\n",
              "      <td>Luiza Farias</td>\n",
              "      <td>Pedreiro</td>\n",
              "      <td>79.33</td>\n",
              "      <td>2022-05-26</td>\n",
              "      <td>12.0</td>\n",
              "      <td>5</td>\n",
              "      <td>2022</td>\n",
              "    </tr>\n",
              "    <tr>\n",
              "      <th>2</th>\n",
              "      <td>1</td>\n",
              "      <td>2022-01-01</td>\n",
              "      <td>2022-06-13</td>\n",
              "      <td>228049.0</td>\n",
              "      <td>Infraestrutura</td>\n",
              "      <td>3</td>\n",
              "      <td>Sr. João Gabriel Novaes</td>\n",
              "      <td>Encanador</td>\n",
              "      <td>99.61</td>\n",
              "      <td>2022-04-14</td>\n",
              "      <td>98.0</td>\n",
              "      <td>4</td>\n",
              "      <td>2022</td>\n",
              "    </tr>\n",
              "  </tbody>\n",
              "</table>\n",
              "</div>\n",
              "      <button class=\"colab-df-convert\" onclick=\"convertToInteractive('df-96796afd-d5ee-4ccf-b5e2-ee3e8206e2de')\"\n",
              "              title=\"Convert this dataframe to an interactive table.\"\n",
              "              style=\"display:none;\">\n",
              "        \n",
              "  <svg xmlns=\"http://www.w3.org/2000/svg\" height=\"24px\"viewBox=\"0 0 24 24\"\n",
              "       width=\"24px\">\n",
              "    <path d=\"M0 0h24v24H0V0z\" fill=\"none\"/>\n",
              "    <path d=\"M18.56 5.44l.94 2.06.94-2.06 2.06-.94-2.06-.94-.94-2.06-.94 2.06-2.06.94zm-11 1L8.5 8.5l.94-2.06 2.06-.94-2.06-.94L8.5 2.5l-.94 2.06-2.06.94zm10 10l.94 2.06.94-2.06 2.06-.94-2.06-.94-.94-2.06-.94 2.06-2.06.94z\"/><path d=\"M17.41 7.96l-1.37-1.37c-.4-.4-.92-.59-1.43-.59-.52 0-1.04.2-1.43.59L10.3 9.45l-7.72 7.72c-.78.78-.78 2.05 0 2.83L4 21.41c.39.39.9.59 1.41.59.51 0 1.02-.2 1.41-.59l7.78-7.78 2.81-2.81c.8-.78.8-2.07 0-2.86zM5.41 20L4 18.59l7.72-7.72 1.47 1.35L5.41 20z\"/>\n",
              "  </svg>\n",
              "      </button>\n",
              "      \n",
              "  <style>\n",
              "    .colab-df-container {\n",
              "      display:flex;\n",
              "      flex-wrap:wrap;\n",
              "      gap: 12px;\n",
              "    }\n",
              "\n",
              "    .colab-df-convert {\n",
              "      background-color: #E8F0FE;\n",
              "      border: none;\n",
              "      border-radius: 50%;\n",
              "      cursor: pointer;\n",
              "      display: none;\n",
              "      fill: #1967D2;\n",
              "      height: 32px;\n",
              "      padding: 0 0 0 0;\n",
              "      width: 32px;\n",
              "    }\n",
              "\n",
              "    .colab-df-convert:hover {\n",
              "      background-color: #E2EBFA;\n",
              "      box-shadow: 0px 1px 2px rgba(60, 64, 67, 0.3), 0px 1px 3px 1px rgba(60, 64, 67, 0.15);\n",
              "      fill: #174EA6;\n",
              "    }\n",
              "\n",
              "    [theme=dark] .colab-df-convert {\n",
              "      background-color: #3B4455;\n",
              "      fill: #D2E3FC;\n",
              "    }\n",
              "\n",
              "    [theme=dark] .colab-df-convert:hover {\n",
              "      background-color: #434B5C;\n",
              "      box-shadow: 0px 1px 3px 1px rgba(0, 0, 0, 0.15);\n",
              "      filter: drop-shadow(0px 1px 2px rgba(0, 0, 0, 0.3));\n",
              "      fill: #FFFFFF;\n",
              "    }\n",
              "  </style>\n",
              "\n",
              "      <script>\n",
              "        const buttonEl =\n",
              "          document.querySelector('#df-96796afd-d5ee-4ccf-b5e2-ee3e8206e2de button.colab-df-convert');\n",
              "        buttonEl.style.display =\n",
              "          google.colab.kernel.accessAllowed ? 'block' : 'none';\n",
              "\n",
              "        async function convertToInteractive(key) {\n",
              "          const element = document.querySelector('#df-96796afd-d5ee-4ccf-b5e2-ee3e8206e2de');\n",
              "          const dataTable =\n",
              "            await google.colab.kernel.invokeFunction('convertToInteractive',\n",
              "                                                     [key], {});\n",
              "          if (!dataTable) return;\n",
              "\n",
              "          const docLinkHtml = 'Like what you see? Visit the ' +\n",
              "            '<a target=\"_blank\" href=https://colab.research.google.com/notebooks/data_table.ipynb>data table notebook</a>'\n",
              "            + ' to learn more about interactive tables.';\n",
              "          element.innerHTML = '';\n",
              "          dataTable['output_type'] = 'display_data';\n",
              "          await google.colab.output.renderOutput(dataTable, element);\n",
              "          const docLink = document.createElement('div');\n",
              "          docLink.innerHTML = docLinkHtml;\n",
              "          element.appendChild(docLink);\n",
              "        }\n",
              "      </script>\n",
              "    </div>\n",
              "  </div>\n",
              "  "
            ]
          },
          "metadata": {},
          "execution_count": 7
        }
      ]
    },
    {
      "cell_type": "markdown",
      "source": [
        "# 1. Identifique os períodos de maior atividade da empreiteira ao longo do tempo."
      ],
      "metadata": {
        "id": "ZfYoW_MgTns1"
      }
    },
    {
      "cell_type": "code",
      "source": [
        "dados[\"Data_Alocacao\"] = pd.to_datetime(dados['Data_Alocacao'])"
      ],
      "metadata": {
        "id": "mv6itpbkUsuI"
      },
      "execution_count": 9,
      "outputs": []
    },
    {
      "cell_type": "code",
      "source": [
        "dados['Mes_Alocado'] = dados['Data_Alocacao'].dt.month\n",
        "dados['Ano_Alocado'] = dados['Data_Alocacao'].dt.year"
      ],
      "metadata": {
        "id": "Eajw6lAPU0qD"
      },
      "execution_count": 10,
      "outputs": []
    },
    {
      "cell_type": "code",
      "source": [
        "dados.head(3)"
      ],
      "metadata": {
        "id": "CuEFd4wUWQLZ"
      },
      "execution_count": null,
      "outputs": []
    },
    {
      "cell_type": "code",
      "source": [
        "mes_horas = dados.groupby('Mes_Alocado')['Horas_Alocadas'].sum()"
      ],
      "metadata": {
        "id": "VP-WZLsmWRxm"
      },
      "execution_count": 13,
      "outputs": []
    },
    {
      "cell_type": "code",
      "source": [
        "mes_horas.plot(kind='bar',figsize=(12,7))\n",
        "plt.xlabel('Mês')\n",
        "plt.ylabel('Somadas horas alocadas')\n",
        "plt.title('Horas alocadas por mês')"
      ],
      "metadata": {
        "colab": {
          "base_uri": "https://localhost:8080/",
          "height": 662
        },
        "id": "n8R3ciVHXSEK",
        "outputId": "7f2156f1-9e93-4a1e-8ff7-1866b8b5128a"
      },
      "execution_count": 15,
      "outputs": [
        {
          "output_type": "execute_result",
          "data": {
            "text/plain": [
              "Text(0.5, 1.0, 'Horas alocadas por mês')"
            ]
          },
          "metadata": {},
          "execution_count": 15
        },
        {
          "output_type": "display_data",
          "data": {
            "text/plain": [
              "<Figure size 1200x700 with 1 Axes>"
            ],
            "image/png": "[encoded data removed]"
          },
          "metadata": {}
        }
      ]
    },
    {
      "cell_type": "markdown",
      "source": [
        "# Analise a duração média dos projetos e sua distribuição."
      ],
      "metadata": {
        "id": "LBkY1ST1XaVw"
      }
    },
    {
      "cell_type": "code",
      "source": [
        "dados['Data_Inicial'] = pd.to_datetime(dados['Data_Inicial'])\n",
        "dados['Data_Conclusao'] = pd.to_datetime(dados['Data_Conclusao'])"
      ],
      "metadata": {
        "id": "Dd_cDRZxe9Va"
      },
      "execution_count": 21,
      "outputs": []
    },
    {
      "cell_type": "code",
      "source": [
        "dados.drop(columns=[\"DataConclusao\"],inplace=True)"
      ],
      "metadata": {
        "id": "3L-Rm6PEfl3A"
      },
      "execution_count": 22,
      "outputs": []
    },
    {
      "cell_type": "code",
      "source": [
        "dados.dtypes"
      ],
      "metadata": {
        "colab": {
          "base_uri": "https://localhost:8080/"
        },
        "id": "E23HPvCRfgzX",
        "outputId": "193e7c6d-06bc-4b71-d784-c1ef99d5cfc5"
      },
      "execution_count": 23,
      "outputs": [
        {
          "output_type": "execute_result",
          "data": {
            "text/plain": [
              "Projeto_ID                 int64\n",
              "Data_Inicial      datetime64[ns]\n",
              "Data_Conclusao    datetime64[ns]\n",
              "Orcamento                float64\n",
              "Categoria                 object\n",
              "Recurso_ID                 int64\n",
              "Nome                      object\n",
              "Funcao                    object\n",
              "Custo_Hora               float64\n",
              "Data_Alocacao     datetime64[ns]\n",
              "Horas_Alocadas           float64\n",
              "Mes_Alocacao               int64\n",
              "Ano_Alocacao               int64\n",
              "Mes_Alocado                int64\n",
              "Ano_Alocado                int64\n",
              "dtype: object"
            ]
          },
          "metadata": {},
          "execution_count": 23
        }
      ]
    },
    {
      "cell_type": "code",
      "source": [
        "dados['Duracao'] = dados[\"Data_Conclusao\"] - dados[\"Data_Inicial\"]"
      ],
      "metadata": {
        "id": "9UYdL_TaZCIa"
      },
      "execution_count": 24,
      "outputs": []
    },
    {
      "cell_type": "code",
      "source": [
        "dados.head()"
      ],
      "metadata": {
        "colab": {
          "base_uri": "https://localhost:8080/",
          "height": 409
        },
        "id": "t_wtYJ5Ve7ZE",
        "outputId": "61ff9310-b24a-4279-c16b-02ed183d1616"
      },
      "execution_count": 25,
      "outputs": [
        {
          "output_type": "execute_result",
          "data": {
            "text/plain": [
              "   Projeto_ID Data_Inicial Data_Conclusao  Orcamento       Categoria  \\\n",
              "0           1   2022-01-01     2022-06-13   228049.0  Infraestrutura   \n",
              "1           1   2022-01-01     2022-06-13   228049.0  Infraestrutura   \n",
              "2           1   2022-01-01     2022-06-13   228049.0  Infraestrutura   \n",
              "3           1   2022-01-01     2022-06-13   228049.0  Infraestrutura   \n",
              "4           1   2022-01-01     2022-06-13   228049.0  Infraestrutura   \n",
              "\n",
              "   Recurso_ID                     Nome     Funcao  Custo_Hora Data_Alocacao  \\\n",
              "0           1         Davi Lucca Gomes   Pedreiro       88.66    2022-03-30   \n",
              "1           2             Luiza Farias   Pedreiro       79.33    2022-05-26   \n",
              "2           3  Sr. João Gabriel Novaes  Encanador       99.61    2022-04-14   \n",
              "3           4         Sr. Kevin Farias  Encanador       93.42    2022-03-25   \n",
              "4           5  Maria Fernanda Caldeira  Arquiteto       62.41    2022-06-06   \n",
              "\n",
              "   Horas_Alocadas  Mes_Alocacao  Ano_Alocacao  Mes_Alocado  Ano_Alocado  \\\n",
              "0            94.0             3          2022            3         2022   \n",
              "1            12.0             5          2022            5         2022   \n",
              "2            98.0             4          2022            4         2022   \n",
              "3            29.0             3          2022            3         2022   \n",
              "4            31.0             6          2022            6         2022   \n",
              "\n",
              "   Duracao  \n",
              "0 163 days  \n",
              "1 163 days  \n",
              "2 163 days  \n",
              "3 163 days  \n",
              "4 163 days  "
            ],
            "text/html": [
              "\n",
              "  <div id=\"df-a2b6b857-934c-4833-83d7-5928384abc5e\">\n",
              "    <div class=\"colab-df-container\">\n",
              "      <div>\n",
              "<style scoped>\n",
              "    .dataframe tbody tr th:only-of-type {\n",
              "        vertical-align: middle;\n",
              "    }\n",
              "\n",
              "    .dataframe tbody tr th {\n",
              "        vertical-align: top;\n",
              "    }\n",
              "\n",
              "    .dataframe thead th {\n",
              "        text-align: right;\n",
              "    }\n",
              "</style>\n",
              "<table border=\"1\" class=\"dataframe\">\n",
              "  <thead>\n",
              "    <tr style=\"text-align: right;\">\n",
              "      <th></th>\n",
              "      <th>Projeto_ID</th>\n",
              "      <th>Data_Inicial</th>\n",
              "      <th>Data_Conclusao</th>\n",
              "      <th>Orcamento</th>\n",
              "      <th>Categoria</th>\n",
              "      <th>Recurso_ID</th>\n",
              "      <th>Nome</th>\n",
              "      <th>Funcao</th>\n",
              "      <th>Custo_Hora</th>\n",
              "      <th>Data_Alocacao</th>\n",
              "      <th>Horas_Alocadas</th>\n",
              "      <th>Mes_Alocacao</th>\n",
              "      <th>Ano_Alocacao</th>\n",
              "      <th>Mes_Alocado</th>\n",
              "      <th>Ano_Alocado</th>\n",
              "      <th>Duracao</th>\n",
              "    </tr>\n",
              "  </thead>\n",
              "  <tbody>\n",
              "    <tr>\n",
              "      <th>0</th>\n",
              "      <td>1</td>\n",
              "      <td>2022-01-01</td>\n",
              "      <td>2022-06-13</td>\n",
              "      <td>228049.0</td>\n",
              "      <td>Infraestrutura</td>\n",
              "      <td>1</td>\n",
              "      <td>Davi Lucca Gomes</td>\n",
              "      <td>Pedreiro</td>\n",
              "      <td>88.66</td>\n",
              "      <td>2022-03-30</td>\n",
              "      <td>94.0</td>\n",
              "      <td>3</td>\n",
              "      <td>2022</td>\n",
              "      <td>3</td>\n",
              "      <td>2022</td>\n",
              "      <td>163 days</td>\n",
              "    </tr>\n",
              "    <tr>\n",
              "      <th>1</th>\n",
              "      <td>1</td>\n",
              "      <td>2022-01-01</td>\n",
              "      <td>2022-06-13</td>\n",
              "      <td>228049.0</td>\n",
              "      <td>Infraestrutura</td>\n",
              "      <td>2</td>\n",
              "      <td>Luiza Farias</td>\n",
              "      <td>Pedreiro</td>\n",
              "      <td>79.33</td>\n",
              "      <td>2022-05-26</td>\n",
              "      <td>12.0</td>\n",
              "      <td>5</td>\n",
              "      <td>2022</td>\n",
              "      <td>5</td>\n",
              "      <td>2022</td>\n",
              "      <td>163 days</td>\n",
              "    </tr>\n",
              "    <tr>\n",
              "      <th>2</th>\n",
              "      <td>1</td>\n",
              "      <td>2022-01-01</td>\n",
              "      <td>2022-06-13</td>\n",
              "      <td>228049.0</td>\n",
              "      <td>Infraestrutura</td>\n",
              "      <td>3</td>\n",
              "      <td>Sr. João Gabriel Novaes</td>\n",
              "      <td>Encanador</td>\n",
              "      <td>99.61</td>\n",
              "      <td>2022-04-14</td>\n",
              "      <td>98.0</td>\n",
              "      <td>4</td>\n",
              "      <td>2022</td>\n",
              "      <td>4</td>\n",
              "      <td>2022</td>\n",
              "      <td>163 days</td>\n",
              "    </tr>\n",
              "    <tr>\n",
              "      <th>3</th>\n",
              "      <td>1</td>\n",
              "      <td>2022-01-01</td>\n",
              "      <td>2022-06-13</td>\n",
              "      <td>228049.0</td>\n",
              "      <td>Infraestrutura</td>\n",
              "      <td>4</td>\n",
              "      <td>Sr. Kevin Farias</td>\n",
              "      <td>Encanador</td>\n",
              "      <td>93.42</td>\n",
              "      <td>2022-03-25</td>\n",
              "      <td>29.0</td>\n",
              "      <td>3</td>\n",
              "      <td>2022</td>\n",
              "      <td>3</td>\n",
              "      <td>2022</td>\n",
              "      <td>163 days</td>\n",
              "    </tr>\n",
              "    <tr>\n",
              "      <th>4</th>\n",
              "      <td>1</td>\n",
              "      <td>2022-01-01</td>\n",
              "      <td>2022-06-13</td>\n",
              "      <td>228049.0</td>\n",
              "      <td>Infraestrutura</td>\n",
              "      <td>5</td>\n",
              "      <td>Maria Fernanda Caldeira</td>\n",
              "      <td>Arquiteto</td>\n",
              "      <td>62.41</td>\n",
              "      <td>2022-06-06</td>\n",
              "      <td>31.0</td>\n",
              "      <td>6</td>\n",
              "      <td>2022</td>\n",
              "      <td>6</td>\n",
              "      <td>2022</td>\n",
              "      <td>163 days</td>\n",
              "    </tr>\n",
              "  </tbody>\n",
              "</table>\n",
              "</div>\n",
              "      <button class=\"colab-df-convert\" onclick=\"convertToInteractive('df-a2b6b857-934c-4833-83d7-5928384abc5e')\"\n",
              "              title=\"Convert this dataframe to an interactive table.\"\n",
              "              style=\"display:none;\">\n",
              "        \n",
              "  <svg xmlns=\"http://www.w3.org/2000/svg\" height=\"24px\"viewBox=\"0 0 24 24\"\n",
              "       width=\"24px\">\n",
              "    <path d=\"M0 0h24v24H0V0z\" fill=\"none\"/>\n",
              "    <path d=\"M18.56 5.44l.94 2.06.94-2.06 2.06-.94-2.06-.94-.94-2.06-.94 2.06-2.06.94zm-11 1L8.5 8.5l.94-2.06 2.06-.94-2.06-.94L8.5 2.5l-.94 2.06-2.06.94zm10 10l.94 2.06.94-2.06 2.06-.94-2.06-.94-.94-2.06-.94 2.06-2.06.94z\"/><path d=\"M17.41 7.96l-1.37-1.37c-.4-.4-.92-.59-1.43-.59-.52 0-1.04.2-1.43.59L10.3 9.45l-7.72 7.72c-.78.78-.78 2.05 0 2.83L4 21.41c.39.39.9.59 1.41.59.51 0 1.02-.2 1.41-.59l7.78-7.78 2.81-2.81c.8-.78.8-2.07 0-2.86zM5.41 20L4 18.59l7.72-7.72 1.47 1.35L5.41 20z\"/>\n",
              "  </svg>\n",
              "      </button>\n",
              "      \n",
              "  <style>\n",
              "    .colab-df-container {\n",
              "      display:flex;\n",
              "      flex-wrap:wrap;\n",
              "      gap: 12px;\n",
              "    }\n",
              "\n",
              "    .colab-df-convert {\n",
              "      background-color: #E8F0FE;\n",
              "      border: none;\n",
              "      border-radius: 50%;\n",
              "      cursor: pointer;\n",
              "      display: none;\n",
              "      fill: #1967D2;\n",
              "      height: 32px;\n",
              "      padding: 0 0 0 0;\n",
              "      width: 32px;\n",
              "    }\n",
              "\n",
              "    .colab-df-convert:hover {\n",
              "      background-color: #E2EBFA;\n",
              "      box-shadow: 0px 1px 2px rgba(60, 64, 67, 0.3), 0px 1px 3px 1px rgba(60, 64, 67, 0.15);\n",
              "      fill: #174EA6;\n",
              "    }\n",
              "\n",
              "    [theme=dark] .colab-df-convert {\n",
              "      background-color: #3B4455;\n",
              "      fill: #D2E3FC;\n",
              "    }\n",
              "\n",
              "    [theme=dark] .colab-df-convert:hover {\n",
              "      background-color: #434B5C;\n",
              "      box-shadow: 0px 1px 3px 1px rgba(0, 0, 0, 0.15);\n",
              "      filter: drop-shadow(0px 1px 2px rgba(0, 0, 0, 0.3));\n",
              "      fill: #FFFFFF;\n",
              "    }\n",
              "  </style>\n",
              "\n",
              "      <script>\n",
              "        const buttonEl =\n",
              "          document.querySelector('#df-a2b6b857-934c-4833-83d7-5928384abc5e button.colab-df-convert');\n",
              "        buttonEl.style.display =\n",
              "          google.colab.kernel.accessAllowed ? 'block' : 'none';\n",
              "\n",
              "        async function convertToInteractive(key) {\n",
              "          const element = document.querySelector('#df-a2b6b857-934c-4833-83d7-5928384abc5e');\n",
              "          const dataTable =\n",
              "            await google.colab.kernel.invokeFunction('convertToInteractive',\n",
              "                                                     [key], {});\n",
              "          if (!dataTable) return;\n",
              "\n",
              "          const docLinkHtml = 'Like what you see? Visit the ' +\n",
              "            '<a target=\"_blank\" href=https://colab.research.google.com/notebooks/data_table.ipynb>data table notebook</a>'\n",
              "            + ' to learn more about interactive tables.';\n",
              "          element.innerHTML = '';\n",
              "          dataTable['output_type'] = 'display_data';\n",
              "          await google.colab.output.renderOutput(dataTable, element);\n",
              "          const docLink = document.createElement('div');\n",
              "          docLink.innerHTML = docLinkHtml;\n",
              "          element.appendChild(docLink);\n",
              "        }\n",
              "      </script>\n",
              "    </div>\n",
              "  </div>\n",
              "  "
            ]
          },
          "metadata": {},
          "execution_count": 25
        }
      ]
    },
    {
      "cell_type": "code",
      "source": [
        "dados['Duracao_Media'] = dados['Duracao'].dt.days"
      ],
      "metadata": {
        "id": "CLrL1Vu8gbJ1"
      },
      "execution_count": 31,
      "outputs": []
    },
    {
      "cell_type": "code",
      "source": [
        "plt.figure(figsize=(10, 6))  # Define o tamanho da figura\n",
        "plt.hist(dados[\"Duracao_Media\"], bins=30, edgecolor='black')  # Adiciona uma borda preta ao redor das barras\n",
        "plt.xlabel('Duração em dias')\n",
        "plt.ylabel('Frequência')\n",
        "plt.title('Distribuição da Duração dos Projetos')\n",
        "\n",
        "# Adiciona uma grade ao gráfico\n",
        "plt.grid(axis='y', alpha=0.5)\n",
        "\n",
        "# Adiciona rótulos no eixo x com intervalos regulares\n",
        "plt.xticks(range(0, max(dados[\"Duracao_Media\"]), 50))\n",
        "\n",
        "plt.show()"
      ],
      "metadata": {
        "colab": {
          "base_uri": "https://localhost:8080/",
          "height": 564
        },
        "id": "VBiN2On2fvbP",
        "outputId": "33fbcb83-a09d-4d64-a2eb-374580ef0b9d"
      },
      "execution_count": 36,
      "outputs": [
        {
          "output_type": "display_data",
          "data": {
            "text/plain": [
              "<Figure size 1000x600 with 1 Axes>"
            ],
            "image/png": "[encoded data removed]"
          },
          "metadata": {}
        }
      ]
    },
    {
      "cell_type": "code",
      "source": [],
      "metadata": {
        "id": "A1D6M6fugmnK"
      },
      "execution_count": null,
      "outputs": []
    }
  ]
}